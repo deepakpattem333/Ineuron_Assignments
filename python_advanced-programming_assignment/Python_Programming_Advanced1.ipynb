{
 "cells": [
  {
   "cell_type": "code",
   "execution_count": 25,
   "metadata": {
    "scrolled": false
   },
   "outputs": [
    {
     "name": "stdout",
     "output_type": "stream",
     "text": [
      "2\n",
      "-1\n"
     ]
    }
   ],
   "source": [
    "#1\n",
    "def myfun(mylist):\n",
    "    A=len(mylist)\n",
    "    nlist=[]\n",
    "    nlist1=[]\n",
    "    temp=0\n",
    "    for k in range(0,A):\n",
    "        for i in mylist[k]:\n",
    "            nlist.append(i)\n",
    "        \n",
    "    for i in nlist:\n",
    "        if i==\"#\":\n",
    "            nlist1.append(5)\n",
    "        elif i==\"O\":  \n",
    "            nlist1.append(3)\n",
    "        elif i==\"X\":  \n",
    "            nlist1.append(1)\n",
    "        elif i==\"!\":  \n",
    "            nlist1.append(-1)\n",
    "        elif i==\"!!\":  \n",
    "            nlist1.append(-3)\n",
    "        elif i==\"!!!\":  \n",
    "            nlist1.append(-5)\n",
    "        else:\n",
    "            print('something wrong')\n",
    "      \n",
    "    for i in nlist1:\n",
    "        temp=temp+i\n",
    "    print(temp)\n",
    "\n",
    "myfun([[\"#\",\"!\"],[\"!!\",\"X\"]])    \n",
    "myfun([[\"!!!\",\"O\",\"!\"],[\"X\",\"#\",\"!!!\"],[\"!!\",\"X\",\"O\"]])            "
   ]
  },
  {
   "cell_type": "code",
   "execution_count": 26,
   "metadata": {},
   "outputs": [
    {
     "name": "stdout",
     "output_type": "stream",
     "text": [
      "120\n"
     ]
    }
   ],
   "source": [
    "#2\n",
    " \n",
    "def combi(*combo):\n",
    "    A=1\n",
    "    for i in combo:\n",
    "        A=i*A\n",
    "        \n",
    "    print(A)    \n",
    "combi(2,3,4,5)    "
   ]
  },
  {
   "cell_type": "code",
   "execution_count": 29,
   "metadata": {},
   "outputs": [
    {
     "name": "stdout",
     "output_type": "stream",
     "text": [
      "-.....--..--.- .--..---.--\n"
     ]
    }
   ],
   "source": [
    "#3\n",
    "def trans(inpt):\n",
    "    A=''\n",
    "    MORSE_CODE_DICT = { 'A':'.-', 'B':'-...',\n",
    "                    'C':'-.-.', 'D':'-..', 'E':'.',\n",
    "                    'F':'..-.', 'G':'--.', 'H':'....',\n",
    "                    'I':'..', 'J':'.---', 'K':'-.-',\n",
    "                    'L':'.-..', 'M':'--', 'N':'-.',\n",
    "                    'O':'---', 'P':'.--.', 'Q':'--.-',\n",
    "                    'R':'.-.', 'S':'...', 'T':'-',\n",
    "                    'U':'..-', 'V':'...-', 'W':'.--',\n",
    "                    'X':'-..-', 'Y':'-.--', 'Z':'--..',\n",
    "                    '1':'.----', '2':'..---', '3':'...--',\n",
    "                    '4':'....-', '5':'.....', '6':'-....',\n",
    "                    '7':'--...', '8':'---..', '9':'----.',\n",
    "                    '0':'-----', ', ':'--..--', '.':'.-.-.-',\n",
    "                    '?':'..--..', '/':'-..-.', '-':'-....-',\n",
    "                    '(':'-.--.', ')':'-.--.-',' ':' '}\n",
    "    for i in inpt:\n",
    "        A=A+MORSE_CODE_DICT[i]\n",
    "    print(A)    \n",
    "\n",
    "trans(\"DEEPAK PATTEM\")    "
   ]
  },
  {
   "cell_type": "code",
   "execution_count": 34,
   "metadata": {},
   "outputs": [
    {
     "name": "stdout",
     "output_type": "stream",
     "text": [
      "TRUE\n",
      "TRUE\n",
      "FALSE\n"
     ]
    }
   ],
   "source": [
    "#4\n",
    "def ponp(x):\n",
    "    if x>1:\n",
    "        for i in range(2,x):\n",
    "            if x%i == 0:\n",
    "                print(\"FALSE\")\n",
    "                break\n",
    "        else:\n",
    "            print(\"TRUE\")\n",
    "            \n",
    "    else:\n",
    "        print(\"FALSE\")            \n",
    "            \n",
    "    \n",
    "ponp(7)\n",
    "ponp(56963)\n",
    "ponp(5151512515524)"
   ]
  },
  {
   "cell_type": "code",
   "execution_count": 40,
   "metadata": {},
   "outputs": [
    {
     "name": "stdout",
     "output_type": "stream",
     "text": [
      "False\n",
      "True\n",
      "False\n",
      "True\n",
      "True\n"
     ]
    }
   ],
   "source": [
    "#5\n",
    "\n",
    "def arr(stri):\n",
    "    list1=[]\n",
    "    list2=[]\n",
    "    DICT = { 'A':1, 'B':2,\n",
    "            'C':3, 'D':4, 'E':5,\n",
    "            'F':6, 'G':7, 'H':8,\n",
    "            'I':9, 'J':10, 'K':11,\n",
    "            'L':12, 'M':13, 'N':14,\n",
    "            'O':15, 'P':16, 'Q':17,\n",
    "            'R':18, 'S':19, 'T':20,\n",
    "            'U':21, 'V':22, 'W':23,\n",
    "            'X':24, 'Y':25, 'Z':26}\n",
    "    for i  in stri:\n",
    "        if DICT[i]%2==0:\n",
    "            list1.append(0)\n",
    "        elif  DICT[i]%2==1:\n",
    "            list1.append(1)\n",
    "    \n",
    "    for i in list1:\n",
    "        if i==0:\n",
    "            list2.append(False)\n",
    "        elif i==1:\n",
    "            list2.append(True)\n",
    "        \n",
    "    for i in list2: \n",
    "        print(i)\n",
    "        \n",
    "arr(\"LOVES\")        \n",
    "    \n"
   ]
  },
  {
   "cell_type": "code",
   "execution_count": null,
   "metadata": {},
   "outputs": [],
   "source": []
  }
 ],
 "metadata": {
  "kernelspec": {
   "display_name": "Python 3",
   "language": "python",
   "name": "python3"
  },
  "language_info": {
   "codemirror_mode": {
    "name": "ipython",
    "version": 3
   },
   "file_extension": ".py",
   "mimetype": "text/x-python",
   "name": "python",
   "nbconvert_exporter": "python",
   "pygments_lexer": "ipython3",
   "version": "3.7.3"
  }
 },
 "nbformat": 4,
 "nbformat_minor": 2
}
