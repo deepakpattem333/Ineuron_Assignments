{
 "cells": [
  {
   "cell_type": "code",
   "execution_count": 8,
   "metadata": {},
   "outputs": [
    {
     "name": "stdout",
     "output_type": "stream",
     "text": [
      "Enter the kms\n",
      "None17\n",
      "10.557\n"
     ]
    }
   ],
   "source": [
    "#1\n",
    "n=float(input(print('Enter the kms')))\n",
    "print(n*0.621)\n"
   ]
  },
  {
   "cell_type": "code",
   "execution_count": 12,
   "metadata": {},
   "outputs": [
    {
     "name": "stdout",
     "output_type": "stream",
     "text": [
      "Enter temperature in celsius66\n",
      "150.8\n"
     ]
    }
   ],
   "source": [
    "#2\n",
    "n = float(input(\"Enter temperature in celsius\"))\n",
    "f = (n * 9/5) + 32\n",
    "print(f)"
   ]
  },
  {
   "cell_type": "code",
   "execution_count": 14,
   "metadata": {},
   "outputs": [
    {
     "name": "stdout",
     "output_type": "stream",
     "text": [
      "Enter year2021\n",
      "Enter month12\n",
      "   December 2021\n",
      "Mo Tu We Th Fr Sa Su\n",
      "       1  2  3  4  5\n",
      " 6  7  8  9 10 11 12\n",
      "13 14 15 16 17 18 19\n",
      "20 21 22 23 24 25 26\n",
      "27 28 29 30 31\n",
      "\n"
     ]
    }
   ],
   "source": [
    "#3\n",
    "import calendar  \n",
    "year = int(input(\"Enter year\"))  \n",
    "month = int(input(\"Enter month\"))  \n",
    "  \n",
    "print(calendar.month(year,month))"
   ]
  },
  {
   "cell_type": "code",
   "execution_count": 17,
   "metadata": {},
   "outputs": [
    {
     "name": "stdout",
     "output_type": "stream",
     "text": [
      "Enter a8\n",
      "Enter b16\n",
      "Enter c8\n",
      "(-1+0j) (-1+0j)\n"
     ]
    }
   ],
   "source": [
    "#4\n",
    "import cmath  \n",
    "a = float(input('Enter a'))  \n",
    "b = float(input('Enter b'))  \n",
    "c = float(input('Enter c'))  \n",
    "  \n",
    "d = (b**2) - (4*a*c)  \n",
    "  \n",
    "X1 = (-b-cmath.sqrt(d))/(2*a)  \n",
    "X2 = (-b+cmath.sqrt(d))/(2*a)  \n",
    "print(X1,X2)   "
   ]
  },
  {
   "cell_type": "code",
   "execution_count": 18,
   "metadata": {},
   "outputs": [
    {
     "name": "stdout",
     "output_type": "stream",
     "text": [
      "Enter anything44\n",
      "Enter anything88\n",
      "x = 88\n",
      "y = 44\n"
     ]
    }
   ],
   "source": [
    "#5\n",
    "x = input('Enter anything')\n",
    "y = input('Enter anything')\n",
    "\n",
    "x, y = y, x\n",
    "print(\"x =\", x)\n",
    "print(\"y =\", y)\n"
   ]
  }
 ],
 "metadata": {
  "kernelspec": {
   "display_name": "Python 3",
   "language": "python",
   "name": "python3"
  },
  "language_info": {
   "codemirror_mode": {
    "name": "ipython",
    "version": 3
   },
   "file_extension": ".py",
   "mimetype": "text/x-python",
   "name": "python",
   "nbconvert_exporter": "python",
   "pygments_lexer": "ipython3",
   "version": "3.7.3"
  }
 },
 "nbformat": 4,
 "nbformat_minor": 2
}
