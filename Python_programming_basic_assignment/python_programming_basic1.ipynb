{
 "cells": [
  {
   "cell_type": "code",
   "execution_count": 1,
   "metadata": {},
   "outputs": [
    {
     "name": "stdout",
     "output_type": "stream",
     "text": [
      "Hello Python\n"
     ]
    }
   ],
   "source": [
    "#1\n",
    "print('Hello Python')"
   ]
  },
  {
   "cell_type": "code",
   "execution_count": 16,
   "metadata": {},
   "outputs": [
    {
     "name": "stdout",
     "output_type": "stream",
     "text": [
      "Enter 1 for addition and 0  for  division\n",
      "None0\n",
      "Enter the first no\n",
      "None88\n",
      "Enter the second no\n",
      "None2\n",
      "44.0\n"
     ]
    }
   ],
   "source": [
    "#2\n",
    "def add(a1,a2):\n",
    "    return(a1+a2)\n",
    "      \n",
    "def div(b1,b2):\n",
    "    return(b1/b2)\n",
    "\n",
    "n=int(input(print('Enter 1 for addition and 0 for division')))\n",
    "n1=int(input(print('Enter the first no')))\n",
    "n2=int(input(print('Enter the second no')))\n",
    "if n == 1:\n",
    "    print(\"The addition of the given no is\"+add(n1,n2))\n",
    "elif n == 0: \n",
    "    print(div(n1,n2))\n",
    "\n",
    "\n",
    "\n",
    "\n"
   ]
  },
  {
   "cell_type": "code",
   "execution_count": 17,
   "metadata": {},
   "outputs": [
    {
     "name": "stdout",
     "output_type": "stream",
     "text": [
      "Enter 1st side of yhe triangle\n",
      "None8\n",
      "Enter 2nd side of yhe triangle\n",
      "None8\n",
      "Enter 3rd side of yhe triangle\n",
      "None8\n",
      "27.712812921102035\n"
     ]
    }
   ],
   "source": [
    "#3\n",
    "def area(a1,a2,a3):\n",
    "    b=(a1+a2+a3)/2\n",
    "    ar=(b*(b-a1)*(b-a2)*(b-a3))**0.5\n",
    "    return(ar)\n",
    "\n",
    "a1=int(input(print('Enter 1st side of the triangle')))\n",
    "a2=int(input(print('Enter 2nd side of the triangle')))\n",
    "a3=int(input(print('Enter 3rd side of the triangle')))\n",
    "print(area(a1,a2,a3))\n",
    "\n",
    "\n",
    "\n"
   ]
  },
  {
   "cell_type": "code",
   "execution_count": 19,
   "metadata": {},
   "outputs": [
    {
     "name": "stdout",
     "output_type": "stream",
     "text": [
      "Pattem  Deepak\n"
     ]
    }
   ],
   "source": [
    "#4\n",
    "v1=\"Deepak\"\n",
    "v2=\"Pattem\"\n",
    "\n",
    "temp=v1\n",
    "v1=v2\n",
    "v2=temp\n",
    "\n",
    "print(v1+'  '+v2)"
   ]
  },
  {
   "cell_type": "code",
   "execution_count": 32,
   "metadata": {},
   "outputs": [
    {
     "name": "stdout",
     "output_type": "stream",
     "text": [
      "Generated Random Number: 21\n"
     ]
    }
   ],
   "source": [
    "#5\n",
    "\n",
    "import random\n",
    "\n",
    "print('Generated Random Number:',random.randint(0,100))"
   ]
  }
 ],
 "metadata": {
  "kernelspec": {
   "display_name": "Python 3",
   "language": "python",
   "name": "python3"
  },
  "language_info": {
   "codemirror_mode": {
    "name": "ipython",
    "version": 3
   },
   "file_extension": ".py",
   "mimetype": "text/x-python",
   "name": "python",
   "nbconvert_exporter": "python",
   "pygments_lexer": "ipython3",
   "version": "3.7.3"
  }
 },
 "nbformat": 4,
 "nbformat_minor": 2
}
